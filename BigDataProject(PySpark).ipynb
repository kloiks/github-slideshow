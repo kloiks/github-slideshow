{
  "nbformat": 4,
  "nbformat_minor": 0,
  "metadata": {
    "colab": {
      "name": "BigDataProject(PySpark).ipynb",
      "provenance": [],
      "include_colab_link": true
    },
    "kernelspec": {
      "name": "python3",
      "display_name": "Python 3"
    },
    "language_info": {
      "name": "python"
    }
  },
  "cells": [
    {
      "cell_type": "markdown",
      "metadata": {
        "id": "view-in-github",
        "colab_type": "text"
      },
      "source": [
        "<a href=\"https://colab.research.google.com/github/kloiks/github-slideshow/blob/main/BigDataProject(PySpark).ipynb\" target=\"_parent\"><img src=\"https://colab.research.google.com/assets/colab-badge.svg\" alt=\"Open In Colab\"/></a>"
      ]
    },
    {
      "cell_type": "code",
      "execution_count": null,
      "metadata": {
        "colab": {
          "base_uri": "https://localhost:8080/"
        },
        "id": "9nHEyrlZo1aw",
        "outputId": "8b63b198-1156-4be2-9a13-8ca43726b90e"
      },
      "outputs": [
        {
          "output_type": "stream",
          "name": "stdout",
          "text": [
            "Drive already mounted at /content/drive; to attempt to forcibly remount, call drive.mount(\"/content/drive\", force_remount=True).\n"
          ]
        }
      ],
      "source": [
        "from google.colab import drive\n",
        "drive.mount('/content/drive')\n"
      ]
    },
    {
      "cell_type": "code",
      "source": [
        "!apt-get install openjdk-8-jdk-headless -qq > /dev/null"
      ],
      "metadata": {
        "id": "REH5Zp3XpN69"
      },
      "execution_count": null,
      "outputs": []
    },
    {
      "cell_type": "code",
      "source": [
        "!wget -q https://archive.apache.org/dist/spark/spark-3.2.1/spark-3.2.1-bin-hadoop3.2.tgz"
      ],
      "metadata": {
        "id": "LLrcECy8pTtZ"
      },
      "execution_count": null,
      "outputs": []
    },
    {
      "cell_type": "code",
      "source": [
        "!tar xf spark-3.2.1-bin-hadoop3.2.tgz"
      ],
      "metadata": {
        "id": "wXae9bEwpWF_"
      },
      "execution_count": null,
      "outputs": []
    },
    {
      "cell_type": "code",
      "source": [
        "!pip install -q findspark"
      ],
      "metadata": {
        "id": "YkvwaLzbpcq5"
      },
      "execution_count": null,
      "outputs": []
    },
    {
      "cell_type": "code",
      "source": [
        "import os\n",
        "os.environ[\"JAVA_HOME\"] = \"/usr/lib/jvm/java-8-openjdk-amd64\"\n",
        "os.environ[\"SPARK_HOME\"] = \"/content/spark-3.2.1-bin-hadoop3.2\""
      ],
      "metadata": {
        "id": "L9_5JXdLpt6G"
      },
      "execution_count": null,
      "outputs": []
    },
    {
      "cell_type": "code",
      "source": [
        "import findspark\n",
        "findspark.init()"
      ],
      "metadata": {
        "id": "OFbFBVPppxwP"
      },
      "execution_count": null,
      "outputs": []
    },
    {
      "cell_type": "code",
      "source": [
        "import pyspark\n",
        "from pyspark.sql import SparkSession\n",
        "spark = SparkSession.builder.appName(\"heart_disease_classification\").getOrCreate()\n",
        "\n",
        "#Reading data from csv and creating a Spark Dataframe\n",
        "df = spark.read.csv(\"/content/drive/Shareddrives/CSP 554/heart_2020_cleaned.csv\", inferSchema=True, header=True)\n",
        "df.show(5)"
      ],
      "metadata": {
        "colab": {
          "base_uri": "https://localhost:8080/"
        },
        "id": "VdqNKEMvrC8x",
        "outputId": "b999cf5d-b454-4613-99a3-d0ca01be232a"
      },
      "execution_count": null,
      "outputs": [
        {
          "output_type": "stream",
          "name": "stdout",
          "text": [
            "+------------+-----+-------+---------------+------+--------------+------------+-----------+------+-----------+-----+--------+----------------+---------+---------+------+-------------+----------+\n",
            "|HeartDisease|  BMI|Smoking|AlcoholDrinking|Stroke|PhysicalHealth|MentalHealth|DiffWalking|   Sex|AgeCategory| Race|Diabetic|PhysicalActivity|GenHealth|SleepTime|Asthma|KidneyDisease|SkinCancer|\n",
            "+------------+-----+-------+---------------+------+--------------+------------+-----------+------+-----------+-----+--------+----------------+---------+---------+------+-------------+----------+\n",
            "|          No| 16.6|    Yes|             No|    No|           3.0|        30.0|         No|Female|      55-59|White|     Yes|             Yes|Very good|      5.0|   Yes|           No|       Yes|\n",
            "|          No|20.34|     No|             No|   Yes|           0.0|         0.0|         No|Female|80 or older|White|      No|             Yes|Very good|      7.0|    No|           No|        No|\n",
            "|          No|26.58|    Yes|             No|    No|          20.0|        30.0|         No|  Male|      65-69|White|     Yes|             Yes|     Fair|      8.0|   Yes|           No|        No|\n",
            "|          No|24.21|     No|             No|    No|           0.0|         0.0|         No|Female|      75-79|White|      No|              No|     Good|      6.0|    No|           No|       Yes|\n",
            "|          No|23.71|     No|             No|    No|          28.0|         0.0|        Yes|Female|      40-44|White|      No|             Yes|Very good|      8.0|    No|           No|        No|\n",
            "+------------+-----+-------+---------------+------+--------------+------------+-----------+------+-----------+-----+--------+----------------+---------+---------+------+-------------+----------+\n",
            "only showing top 5 rows\n",
            "\n"
          ]
        }
      ]
    },
    {
      "cell_type": "code",
      "source": [
        "df.printSchema()"
      ],
      "metadata": {
        "colab": {
          "base_uri": "https://localhost:8080/"
        },
        "id": "6PP8OoxwrZR4",
        "outputId": "bb370a55-94ec-4f58-9559-be93d9e37f0b"
      },
      "execution_count": null,
      "outputs": [
        {
          "output_type": "stream",
          "name": "stdout",
          "text": [
            "root\n",
            " |-- HeartDisease: string (nullable = true)\n",
            " |-- BMI: double (nullable = true)\n",
            " |-- Smoking: string (nullable = true)\n",
            " |-- AlcoholDrinking: string (nullable = true)\n",
            " |-- Stroke: string (nullable = true)\n",
            " |-- PhysicalHealth: double (nullable = true)\n",
            " |-- MentalHealth: double (nullable = true)\n",
            " |-- DiffWalking: string (nullable = true)\n",
            " |-- Sex: string (nullable = true)\n",
            " |-- AgeCategory: string (nullable = true)\n",
            " |-- Race: string (nullable = true)\n",
            " |-- Diabetic: string (nullable = true)\n",
            " |-- PhysicalActivity: string (nullable = true)\n",
            " |-- GenHealth: string (nullable = true)\n",
            " |-- SleepTime: double (nullable = true)\n",
            " |-- Asthma: string (nullable = true)\n",
            " |-- KidneyDisease: string (nullable = true)\n",
            " |-- SkinCancer: string (nullable = true)\n",
            "\n"
          ]
        }
      ]
    },
    {
      "cell_type": "code",
      "source": [
        "label = 'HeartDisease'\n",
        "numerical_cols = ['BMI', 'PhysicalHealth','MentalHealth','SleepTime']\n",
        "categorical_cols = list(set(df.columns) - set(numerical_cols) -set([label]))"
      ],
      "metadata": {
        "id": "AX5hzO3JrkZI"
      },
      "execution_count": null,
      "outputs": []
    },
    {
      "cell_type": "code",
      "source": [
        "df.select(numerical_cols).describe().show()"
      ],
      "metadata": {
        "colab": {
          "base_uri": "https://localhost:8080/"
        },
        "id": "6S5sDAcJrr98",
        "outputId": "1bbc3c3c-47ee-431f-a25d-b85539cb37a3"
      },
      "execution_count": null,
      "outputs": [
        {
          "output_type": "stream",
          "name": "stdout",
          "text": [
            "+-------+------------------+------------------+-----------------+------------------+\n",
            "|summary|               BMI|    PhysicalHealth|     MentalHealth|         SleepTime|\n",
            "+-------+------------------+------------------+-----------------+------------------+\n",
            "|  count|            319795|            319795|           319795|            319795|\n",
            "|   mean|28.325398520925706|3.3717100017198516|3.898366140808956| 7.097074688472302|\n",
            "| stddev| 6.356100200470763| 7.950850182571355|7.955235218943604|1.4360070609642803|\n",
            "|    min|             12.02|               0.0|              0.0|               1.0|\n",
            "|    max|             94.85|              30.0|             30.0|              24.0|\n",
            "+-------+------------------+------------------+-----------------+------------------+\n",
            "\n"
          ]
        }
      ]
    },
    {
      "cell_type": "code",
      "source": [
        "df.groupBy(label).count().toPandas().plot.bar(x='HeartDisease', rot=0, title='Number of Observations per label')"
      ],
      "metadata": {
        "colab": {
          "base_uri": "https://localhost:8080/",
          "height": 312
        },
        "id": "i2iw611UtLem",
        "outputId": "a4650420-c178-4cf6-8fe6-6c1ba9ddfac9"
      },
      "execution_count": null,
      "outputs": [
        {
          "output_type": "execute_result",
          "data": {
            "text/plain": [
              "<matplotlib.axes._subplots.AxesSubplot at 0x7fe071162c50>"
            ]
          },
          "metadata": {},
          "execution_count": 134
        },
        {
          "output_type": "display_data",
          "data": {
            "text/plain": [
              "<Figure size 432x288 with 1 Axes>"
            ],
            "image/png": "[encoded data removed]"
          },
          "metadata": {
            "needs_background": "light"
          }
        }
      ]
    },
    {
      "cell_type": "code",
      "source": [
        "train_df, test_df = df.randomSplit([.8,.2])"
      ],
      "metadata": {
        "id": "ko0PdvF6tOvV"
      },
      "execution_count": null,
      "outputs": []
    },
    {
      "cell_type": "code",
      "source": [
        "from pyspark.ml.feature import (VectorAssembler, OneHotEncoder, StringIndexer)\n",
        "from pyspark.ml import Pipeline\n",
        "\n",
        "# Indexers for categorical columns\n",
        "indexers = [StringIndexer(inputCol=col, outputCol=col+'_indexed') for col in categorical_cols]\n",
        "\n",
        "# Encoders for categorical columns\n",
        "encoders = [OneHotEncoder(inputCol=col+'_indexed', outputCol=col+'_encoded') for col in categorical_cols]\n",
        " \n",
        "# Indexer for classification label:\n",
        "label_indexer = StringIndexer(inputCol=label, outputCol=label+'_indexed')\n",
        "\n",
        "#assemble all features as vector to be used as input for Spark MLLib\n",
        "assembler = VectorAssembler(inputCols= [col+'_encoded' for col in categorical_cols] + numerical_cols, outputCol='features')\n",
        "\n",
        "# Creating data processing pipeline\n",
        "pipeline = Pipeline(stages= indexers + encoders + [label_indexer, assembler])"
      ],
      "metadata": {
        "id": "EmHW5A-gtfJu"
      },
      "execution_count": null,
      "outputs": []
    },
    {
      "cell_type": "code",
      "source": [
        "from pyspark.ml.classification import (LogisticRegression, RandomForestClassifier, NaiveBayes)\n",
        "lr = LogisticRegression(featuresCol='features', labelCol=label+'_indexed')\n",
        "rfc = RandomForestClassifier(featuresCol='features', labelCol=label+'_indexed', numTrees=100)\n",
        "nb = NaiveBayes(featuresCol='features', labelCol=label+'_indexed')"
      ],
      "metadata": {
        "id": "iS7w7sAxuS0t"
      },
      "execution_count": null,
      "outputs": []
    },
    {
      "cell_type": "code",
      "source": [
        "from pyspark.ml.evaluation import (BinaryClassificationEvaluator, MulticlassClassificationEvaluator)\n",
        "\n",
        "pred_AUC = BinaryClassificationEvaluator(rawPredictionCol='prediction', labelCol=label+'_indexed')"
      ],
      "metadata": {
        "id": "z1QP-2h2vPO2"
      },
      "execution_count": null,
      "outputs": []
    },
    {
      "cell_type": "code",
      "source": [
        "acc_evaluator = MulticlassClassificationEvaluator(labelCol=label+'_indexed', predictionCol=\"prediction\", metricName=\"accuracy\")"
      ],
      "metadata": {
        "id": "Bn_nYnGnw5fE"
      },
      "execution_count": null,
      "outputs": []
    },
    {
      "cell_type": "code",
      "source": [
        "import time\n",
        "start_time1 = time.time()\n",
        "# creating pipelines with machine learning models\n",
        "#and fitting the train subset\n",
        "#also predicting using test subset\n",
        "\n",
        "#Logistic Regression\n",
        "pipeline_lr = Pipeline(stages=[pipeline, lr])\n",
        "lr_fit = pipeline_lr.fit(train_df)\n",
        "pred_lr = lr_fit.transform(test_df)\n",
        "AUC_lr = pred_AUC.evaluate(pred_lr)\n",
        "print('AUC: ', '{:.2f}'.format(AUC_lr*100), '%', sep='')\n",
        "\n",
        "acc_lr = acc_evaluator.evaluate(pred_lr)\n",
        "print('\\nLogistic Regression accuracy: ', '{:.2f}'.format(acc_lr*100), '%', sep='')\n",
        "print(\"--- %s seconds ---\" % (time.time() - start_time1))"
      ],
      "metadata": {
        "id": "Cg7JbaYhuWD7",
        "colab": {
          "base_uri": "https://localhost:8080/"
        },
        "outputId": "eb8ceb1e-a335-4444-9683-61f99b21540f"
      },
      "execution_count": null,
      "outputs": [
        {
          "output_type": "stream",
          "name": "stdout",
          "text": [
            "AUC: 55.00%\n",
            "\n",
            "Logistic Regression accuracy: 91.60%\n",
            "--- 63.466209173202515 seconds ---\n"
          ]
        }
      ]
    },
    {
      "cell_type": "code",
      "source": [
        "start_time2 = time.time()\n",
        "\n",
        "#Random Forest\n",
        "pipeline_rfc = Pipeline(stages=[pipeline, rfc])\n",
        "rfc_fit = pipeline_rfc.fit(train_df)\n",
        "pred_rfc = rfc_fit.transform(test_df)\n",
        "AUC_rfc = pred_AUC.evaluate(pred_rfc)\n",
        "print('AUC: ', '{:.2f}'.format(AUC_rfc*100), '%', sep='')\n",
        "\n",
        "acc_rfc = acc_evaluator.evaluate(pred_rfc)\n",
        "print('\\nRandom Forest accuracy: ', '{:.2f}'.format(acc_rfc*100), '%', sep='')\n",
        "print(\"--- %s seconds ---\" % (time.time() - start_time2))"
      ],
      "metadata": {
        "id": "dimZoiP2uWgm",
        "colab": {
          "base_uri": "https://localhost:8080/"
        },
        "outputId": "498a5bf8-066a-4f61-e2c9-5e8b0fce02d6"
      },
      "execution_count": null,
      "outputs": [
        {
          "output_type": "stream",
          "name": "stdout",
          "text": [
            "AUC: 50.00%\n",
            "\n",
            "Random Forest accuracy: 91.44%\n",
            "--- 93.65992665290833 seconds ---\n"
          ]
        }
      ]
    },
    {
      "cell_type": "code",
      "source": [
        "start_time3 = time.time()\n",
        "\n",
        "#Naive Bayes\n",
        "pipeline_nb = Pipeline(stages=[pipeline, nb])\n",
        "nb_fit = pipeline_nb.fit(train_df)\n",
        "pred_nb = nb_fit.transform(test_df)\n",
        "AUC_nb = pred_AUC.evaluate(pred_nb)\n",
        "print('AUC: ', '{:.2f}'.format(AUC_nb*100), '%', sep='')\n",
        "\n",
        "acc_nb = acc_evaluator.evaluate(pred_nb)\n",
        "print('\\nNaive Bayes accuracy: ', '{:.2f}'.format(acc_nb*100), '%', sep='')\n",
        "print(\"--- %s seconds ---\" % (time.time() - start_time3))"
      ],
      "metadata": {
        "colab": {
          "base_uri": "https://localhost:8080/"
        },
        "id": "DhxtajubMlGb",
        "outputId": "37e8350b-292c-4f3e-efef-4d58d45d7f45"
      },
      "execution_count": null,
      "outputs": [
        {
          "output_type": "stream",
          "name": "stdout",
          "text": [
            "AUC: 60.83%\n",
            "\n",
            "Naive Bayes accuracy: 83.89%\n",
            "--- 45.404682874679565 seconds ---\n"
          ]
        }
      ]
    }
  ]
}